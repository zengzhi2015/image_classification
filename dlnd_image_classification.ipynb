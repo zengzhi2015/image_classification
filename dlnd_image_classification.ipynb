{
 "cells": [
  {
   "cell_type": "markdown",
   "metadata": {
    "collapsed": true
   },
   "source": [
    "# Image Classification\n",
    "In this project, you'll classify images from the [CIFAR-10 dataset](https://www.cs.toronto.edu/~kriz/cifar.html).  The dataset consists of airplanes, dogs, cats, and other objects. You'll preprocess the images, then train a convolutional neural network on all the samples. The images need to be normalized and the labels need to be one-hot encoded.  You'll get to apply what you learned and build a convolutional, max pooling, dropout, and fully connected layers.  At the end, you'll get to see your neural network's predictions on the sample images.\n",
    "## Get the Data\n",
    "Run the following cell to download the [CIFAR-10 dataset for python](https://www.cs.toronto.edu/~kriz/cifar-10-python.tar.gz)."
   ]
  },
  {
   "cell_type": "code",
   "execution_count": 1,
   "metadata": {},
   "outputs": [
    {
     "name": "stdout",
     "output_type": "stream",
     "text": [
      "All files found!\n"
     ]
    }
   ],
   "source": [
    "\"\"\"\n",
    "DON'T MODIFY ANYTHING IN THIS CELL THAT IS BELOW THIS LINE\n",
    "\"\"\"\n",
    "from urllib.request import urlretrieve\n",
    "from os.path import isfile, isdir\n",
    "from tqdm import tqdm\n",
    "import problem_unittests as tests\n",
    "import tarfile\n",
    "\n",
    "cifar10_dataset_folder_path = 'cifar-10-batches-py'\n",
    "\n",
    "# Use Floyd's cifar-10 dataset if present\n",
    "floyd_cifar10_location = '/input/cifar-10/python.tar.gz'\n",
    "if isfile(floyd_cifar10_location):\n",
    "    tar_gz_path = floyd_cifar10_location\n",
    "else:\n",
    "    tar_gz_path = 'cifar-10-python.tar.gz'\n",
    "\n",
    "class DLProgress(tqdm):\n",
    "    last_block = 0\n",
    "\n",
    "    def hook(self, block_num=1, block_size=1, total_size=None):\n",
    "        self.total = total_size\n",
    "        self.update((block_num - self.last_block) * block_size)\n",
    "        self.last_block = block_num\n",
    "\n",
    "if not isfile(tar_gz_path):\n",
    "    with DLProgress(unit='B', unit_scale=True, miniters=1, desc='CIFAR-10 Dataset') as pbar:\n",
    "        urlretrieve(\n",
    "            'https://www.cs.toronto.edu/~kriz/cifar-10-python.tar.gz',\n",
    "            tar_gz_path,\n",
    "            pbar.hook)\n",
    "\n",
    "if not isdir(cifar10_dataset_folder_path):\n",
    "    with tarfile.open(tar_gz_path) as tar:\n",
    "        tar.extractall()\n",
    "        tar.close()\n",
    "\n",
    "\n",
    "tests.test_folder_path(cifar10_dataset_folder_path)"
   ]
  },
  {
   "cell_type": "markdown",
   "metadata": {},
   "source": [
    "## Explore the Data\n",
    "The dataset is broken into batches to prevent your machine from running out of memory.  The CIFAR-10 dataset consists of 5 batches, named `data_batch_1`, `data_batch_2`, etc.. Each batch contains the labels and images that are one of the following:\n",
    "* airplane\n",
    "* automobile\n",
    "* bird\n",
    "* cat\n",
    "* deer\n",
    "* dog\n",
    "* frog\n",
    "* horse\n",
    "* ship\n",
    "* truck\n",
    "\n",
    "Understanding a dataset is part of making predictions on the data.  Play around with the code cell below by changing the `batch_id` and `sample_id`. The `batch_id` is the id for a batch (1-5). The `sample_id` is the id for a image and label pair in the batch.\n",
    "\n",
    "Ask yourself \"What are all possible labels?\", \"What is the range of values for the image data?\", \"Are the labels in order or random?\".  Answers to questions like these will help you preprocess the data and end up with better predictions."
   ]
  },
  {
   "cell_type": "code",
   "execution_count": 2,
   "metadata": {},
   "outputs": [
    {
     "name": "stdout",
     "output_type": "stream",
     "text": [
      "\n",
      "Stats of batch 1:\n",
      "Samples: 10000\n",
      "Label Counts: {0: 1005, 1: 974, 2: 1032, 3: 1016, 4: 999, 5: 937, 6: 1030, 7: 1001, 8: 1025, 9: 981}\n",
      "First 20 Labels: [6, 9, 9, 4, 1, 1, 2, 7, 8, 3, 4, 7, 7, 2, 9, 9, 9, 3, 2, 6]\n",
      "\n",
      "Example of Image 5:\n",
      "Image - Min Value: 0 Max Value: 252\n",
      "Image - Shape: (32, 32, 3)\n",
      "Label - Label Id: 1 Name: automobile\n"
     ]
    },
    {
     "data": {
      "image/png": "[encoded data removed]",
      "text/plain": [
       "<matplotlib.figure.Figure at 0x7fc98331f048>"
      ]
     },
     "metadata": {
      "image/png": {
       "height": 250,
       "width": 253
      }
     },
     "output_type": "display_data"
    }
   ],
   "source": [
    "%matplotlib inline\n",
    "%config InlineBackend.figure_format = 'retina'\n",
    "\n",
    "import helper\n",
    "import numpy as np\n",
    "\n",
    "# Explore the dataset\n",
    "batch_id = 1\n",
    "sample_id = 5\n",
    "helper.display_stats(cifar10_dataset_folder_path, batch_id, sample_id)"
   ]
  },
  {
   "cell_type": "markdown",
   "metadata": {},
   "source": [
    "## Implement Preprocess Functions\n",
    "### Normalize\n",
    "In the cell below, implement the `normalize` function to take in image data, `x`, and return it as a normalized Numpy array. The values should be in the range of 0 to 1, inclusive.  The return object should be the same shape as `x`."
   ]
  },
  {
   "cell_type": "code",
   "execution_count": 4,
   "metadata": {},
   "outputs": [
    {
     "name": "stdout",
     "output_type": "stream",
     "text": [
      "Tests Passed\n"
     ]
    }
   ],
   "source": [
    "def normalize(x):\n",
    "    \"\"\"\n",
    "    Normalize a list of sample image data in the range of 0 to 1\n",
    "    : x: List of image data.  The image shape is (32, 32, 3)\n",
    "    : return: Numpy array of normalize data\n",
    "    \"\"\"\n",
    "    # TODO: Implement Function\n",
    "    return x / x.max(axis=0)\n",
    "\n",
    "\n",
    "\"\"\"\n",
    "DON'T MODIFY ANYTHING IN THIS CELL THAT IS BELOW THIS LINE\n",
    "\"\"\"\n",
    "tests.test_normalize(normalize)"
   ]
  },
  {
   "cell_type": "markdown",
   "metadata": {},
   "source": [
    "### One-hot encode\n",
    "Just like the previous code cell, you'll be implementing a function for preprocessing.  This time, you'll implement the `one_hot_encode` function. The input, `x`, are a list of labels.  Implement the function to return the list of labels as One-Hot encoded Numpy array.  The possible values for labels are 0 to 9. The one-hot encoding function should return the same encoding for each value between each call to `one_hot_encode`.  Make sure to save the map of encodings outside the function.\n",
    "\n",
    "Hint: Don't reinvent the wheel."
   ]
  },
  {
   "cell_type": "code",
   "execution_count": 34,
   "metadata": {
    "collapsed": true
   },
   "outputs": [],
   "source": [
    "from sklearn.preprocessing import OneHotEncoder"
   ]
  },
  {
   "cell_type": "code",
   "execution_count": 35,
   "metadata": {},
   "outputs": [
    {
     "name": "stdout",
     "output_type": "stream",
     "text": [
      "Tests Passed\n"
     ]
    }
   ],
   "source": [
    "def one_hot_encode(x):\n",
    "    \"\"\"\n",
    "    One hot encode a list of sample labels. Return a one-hot encoded vector for each label.\n",
    "    : x: List of sample Labels\n",
    "    : return: Numpy array of one-hot encoded labels\n",
    "    \"\"\"\n",
    "    # TODO: Implement Function\n",
    "    enc = OneHotEncoder(n_values = 10)\n",
    "    return enc.fit_transform(np.expand_dims(np.array(x).squeeze(),axis=1)).toarray()\n",
    "\n",
    "\n",
    "\"\"\"\n",
    "DON'T MODIFY ANYTHING IN THIS CELL THAT IS BELOW THIS LINE\n",
    "\"\"\"\n",
    "tests.test_one_hot_encode(one_hot_encode)"
   ]
  },
  {
   "cell_type": "markdown",
   "metadata": {},
   "source": [
    "### Randomize Data\n",
    "As you saw from exploring the data above, the order of the samples are randomized.  It doesn't hurt to randomize it again, but you don't need to for this dataset."
   ]
  },
  {
   "cell_type": "markdown",
   "metadata": {},
   "source": [
    "## Preprocess all the data and save it\n",
    "Running the code cell below will preprocess all the CIFAR-10 data and save it to file. The code below also uses 10% of the training data for validation."
   ]
  },
  {
   "cell_type": "code",
   "execution_count": 36,
   "metadata": {},
   "outputs": [],
   "source": [
    "\"\"\"\n",
    "DON'T MODIFY ANYTHING IN THIS CELL\n",
    "\"\"\"\n",
    "# Preprocess Training, Validation, and Testing Data\n",
    "helper.preprocess_and_save_data(cifar10_dataset_folder_path, normalize, one_hot_encode)"
   ]
  },
  {
   "cell_type": "markdown",
   "metadata": {},
   "source": [
    "# Check Point\n",
    "This is your first checkpoint.  If you ever decide to come back to this notebook or have to restart the notebook, you can start from here.  The preprocessed data has been saved to disk."
   ]
  },
  {
   "cell_type": "code",
   "execution_count": 37,
   "metadata": {
    "collapsed": true
   },
   "outputs": [],
   "source": [
    "\"\"\"\n",
    "DON'T MODIFY ANYTHING IN THIS CELL\n",
    "\"\"\"\n",
    "import pickle\n",
    "import problem_unittests as tests\n",
    "import helper\n",
    "\n",
    "# Load the Preprocessed Validation data\n",
    "valid_features, valid_labels = pickle.load(open('preprocess_validation.p', mode='rb'))"
   ]
  },
  {
   "cell_type": "markdown",
   "metadata": {},
   "source": [
    "## Build the network\n",
    "For the neural network, you'll build each layer into a function.  Most of the code you've seen has been outside of functions. To test your code more thoroughly, we require that you put each layer in a function.  This allows us to give you better feedback and test for simple mistakes using our unittests before you submit your project.\n",
    "\n",
    ">**Note:** If you're finding it hard to dedicate enough time for this course each week, we've provided a small shortcut to this part of the project. In the next couple of problems, you'll have the option to use classes from the [TensorFlow Layers](https://www.tensorflow.org/api_docs/python/tf/layers) or [TensorFlow Layers (contrib)](https://www.tensorflow.org/api_guides/python/contrib.layers) packages to build each layer, except the layers you build in the \"Convolutional and Max Pooling Layer\" section.  TF Layers is similar to Keras's and TFLearn's abstraction to layers, so it's easy to pickup.\n",
    "\n",
    ">However, if you would like to get the most out of this course, try to solve all the problems _without_ using anything from the TF Layers packages. You **can** still use classes from other packages that happen to have the same name as ones you find in TF Layers! For example, instead of using the TF Layers version of the `conv2d` class, [tf.layers.conv2d](https://www.tensorflow.org/api_docs/python/tf/layers/conv2d), you would want to use the TF Neural Network version of `conv2d`, [tf.nn.conv2d](https://www.tensorflow.org/api_docs/python/tf/nn/conv2d). \n",
    "\n",
    "Let's begin!\n",
    "\n",
    "### Input\n",
    "The neural network needs to read the image data, one-hot encoded labels, and dropout keep probability. Implement the following functions\n",
    "* Implement `neural_net_image_input`\n",
    " * Return a [TF Placeholder](https://www.tensorflow.org/api_docs/python/tf/placeholder)\n",
    " * Set the shape using `image_shape` with batch size set to `None`.\n",
    " * Name the TensorFlow placeholder \"x\" using the TensorFlow `name` parameter in the [TF Placeholder](https://www.tensorflow.org/api_docs/python/tf/placeholder).\n",
    "* Implement `neural_net_label_input`\n",
    " * Return a [TF Placeholder](https://www.tensorflow.org/api_docs/python/tf/placeholder)\n",
    " * Set the shape using `n_classes` with batch size set to `None`.\n",
    " * Name the TensorFlow placeholder \"y\" using the TensorFlow `name` parameter in the [TF Placeholder](https://www.tensorflow.org/api_docs/python/tf/placeholder).\n",
    "* Implement `neural_net_keep_prob_input`\n",
    " * Return a [TF Placeholder](https://www.tensorflow.org/api_docs/python/tf/placeholder) for dropout keep probability.\n",
    " * Name the TensorFlow placeholder \"keep_prob\" using the TensorFlow `name` parameter in the [TF Placeholder](https://www.tensorflow.org/api_docs/python/tf/placeholder).\n",
    "\n",
    "These names will be used at the end of the project to load your saved model.\n",
    "\n",
    "Note: `None` for shapes in TensorFlow allow for a dynamic size."
   ]
  },
  {
   "cell_type": "code",
   "execution_count": 42,
   "metadata": {},
   "outputs": [
    {
     "name": "stdout",
     "output_type": "stream",
     "text": [
      "Image Input Tests Passed.\n",
      "Label Input Tests Passed.\n",
      "Keep Prob Tests Passed.\n"
     ]
    }
   ],
   "source": [
    "import tensorflow as tf\n",
    "\n",
    "def neural_net_image_input(image_shape):\n",
    "    \"\"\"\n",
    "    Return a Tensor for a batch of image input\n",
    "    : image_shape: Shape of the images\n",
    "    : return: Tensor for image input.\n",
    "    \"\"\"\n",
    "    # TODO: Implement Function\n",
    "    return tf.placeholder(tf.float32, shape=(None,image_shape[0],image_shape[1],image_shape[2]),name='x')\n",
    "\n",
    "\n",
    "\n",
    "def neural_net_label_input(n_classes):\n",
    "    \"\"\"\n",
    "    Return a Tensor for a batch of label input\n",
    "    : n_classes: Number of classes\n",
    "    : return: Tensor for label input.\n",
    "    \"\"\"\n",
    "    # TODO: Implement Function\n",
    "    return tf.placeholder(tf.float32, shape=(None,n_classes),name='y')\n",
    "\n",
    "\n",
    "def neural_net_keep_prob_input():\n",
    "    \"\"\"\n",
    "    Return a Tensor for keep probability\n",
    "    : return: Tensor for keep probability.\n",
    "    \"\"\"\n",
    "    # TODO: Implement Function\n",
    "    return tf.placeholder(tf.float32,name='keep_prob')\n",
    "\n",
    "\n",
    "\"\"\"\n",
    "DON'T MODIFY ANYTHING IN THIS CELL THAT IS BELOW THIS LINE\n",
    "\"\"\"\n",
    "tf.reset_default_graph()\n",
    "tests.test_nn_image_inputs(neural_net_image_input)\n",
    "tests.test_nn_label_inputs(neural_net_label_input)\n",
    "tests.test_nn_keep_prob_inputs(neural_net_keep_prob_input)"
   ]
  },
  {
   "cell_type": "markdown",
   "metadata": {},
   "source": [
    "### Convolution and Max Pooling Layer\n",
    "Convolution layers have a lot of success with images. For this code cell, you should implement the function `conv2d_maxpool` to apply convolution then max pooling:\n",
    "* Create the weight and bias using `conv_ksize`, `conv_num_outputs` and the shape of `x_tensor`.\n",
    "* Apply a convolution to `x_tensor` using weight and `conv_strides`.\n",
    " * We recommend you use same padding, but you're welcome to use any padding.\n",
    "* Add bias\n",
    "* Add a nonlinear activation to the convolution.\n",
    "* Apply Max Pooling using `pool_ksize` and `pool_strides`.\n",
    " * We recommend you use same padding, but you're welcome to use any padding.\n",
    "\n",
    "**Note:** You **can't** use [TensorFlow Layers](https://www.tensorflow.org/api_docs/python/tf/layers) or [TensorFlow Layers (contrib)](https://www.tensorflow.org/api_guides/python/contrib.layers) for **this** layer, but you can still use TensorFlow's [Neural Network](https://www.tensorflow.org/api_docs/python/tf/nn) package. You may still use the shortcut option for all the **other** layers."
   ]
  },
  {
   "cell_type": "code",
   "execution_count": 244,
   "metadata": {},
   "outputs": [
    {
     "name": "stdout",
     "output_type": "stream",
     "text": [
      "Tests Passed\n"
     ]
    }
   ],
   "source": [
    "def conv2d_maxpool(x_tensor, conv_num_outputs, conv_ksize, conv_strides, pool_ksize, pool_strides):\n",
    "    \"\"\"\n",
    "    Apply convolution then max pooling to x_tensor\n",
    "    :param x_tensor: TensorFlow Tensor\n",
    "    :param conv_num_outputs: Number of outputs for the convolutional layer\n",
    "    :param conv_ksize: kernal size 2-D Tuple for the convolutional layer\n",
    "    :param conv_strides: Stride 2-D Tuple for convolution\n",
    "    :param pool_ksize: kernal size 2-D Tuple for pool\n",
    "    :param pool_strides: Stride 2-D Tuple for pool\n",
    "    : return: A tensor that represents convolution and max pooling of x_tensor\n",
    "    \"\"\"\n",
    "    \n",
    "    \n",
    "    # TODO: Implement Function\n",
    "    #W = tf.Variable(tf.random_normal([conv_ksize[0], conv_ksize[1], x_tensor.get_shape()[-1], conv_num_outputs]))\n",
    "    W = tf.Variable(tf.truncated_normal([conv_ksize[0], conv_ksize[1], x_tensor.get_shape().as_list()[-1], conv_num_outputs],stddev=0.1))\n",
    "    b = tf.Variable(tf.truncated_normal([conv_num_outputs],stddev=0.1))\n",
    "\n",
    "    x = tf.nn.conv2d(x_tensor, W, strides=[1, conv_strides[0], conv_strides[1], 1], padding='SAME')\n",
    "    x = tf.nn.bias_add(x, b)\n",
    "    \n",
    "    x = tf.nn.relu(x)\n",
    "    \n",
    "    x = tf.nn.max_pool(x, ksize=[1, pool_ksize[0], pool_ksize[1], 1], \n",
    "                       strides=[1, pool_strides[0], pool_strides[1], 1], padding='SAME')\n",
    "\n",
    "    return x \n",
    "\n",
    "\n",
    "\"\"\"\n",
    "DON'T MODIFY ANYTHING IN THIS CELL THAT IS BELOW THIS LINE\n",
    "\"\"\"\n",
    "tests.test_con_pool(conv2d_maxpool)"
   ]
  },
  {
   "cell_type": "markdown",
   "metadata": {},
   "source": [
    "### Flatten Layer\n",
    "Implement the `flatten` function to change the dimension of `x_tensor` from a 4-D tensor to a 2-D tensor.  The output should be the shape (*Batch Size*, *Flattened Image Size*). Shortcut option: you can use classes from the [TensorFlow Layers](https://www.tensorflow.org/api_docs/python/tf/layers) or [TensorFlow Layers (contrib)](https://www.tensorflow.org/api_guides/python/contrib.layers) packages for this layer. For more of a challenge, only use other TensorFlow packages."
   ]
  },
  {
   "cell_type": "code",
   "execution_count": 245,
   "metadata": {},
   "outputs": [
    {
     "name": "stdout",
     "output_type": "stream",
     "text": [
      "Tests Passed\n"
     ]
    }
   ],
   "source": [
    "def flatten(x_tensor):\n",
    "    \"\"\"\n",
    "    Flatten x_tensor to (Batch Size, Flattened Image Size)\n",
    "    : x_tensor: A tensor of size (Batch Size, ...), where ... are the image dimensions.\n",
    "    : return: A tensor of size (Batch Size, Flattened Image Size).\n",
    "    \"\"\"\n",
    "    # TODO: Implement Function\n",
    "    return tf.contrib.layers.flatten(x_tensor)\n",
    "\n",
    "\"\"\"\n",
    "DON'T MODIFY ANYTHING IN THIS CELL THAT IS BELOW THIS LINE\n",
    "\"\"\"\n",
    "tests.test_flatten(flatten)"
   ]
  },
  {
   "cell_type": "markdown",
   "metadata": {},
   "source": [
    "### Fully-Connected Layer\n",
    "Implement the `fully_conn` function to apply a fully connected layer to `x_tensor` with the shape (*Batch Size*, *num_outputs*). Shortcut option: you can use classes from the [TensorFlow Layers](https://www.tensorflow.org/api_docs/python/tf/layers) or [TensorFlow Layers (contrib)](https://www.tensorflow.org/api_guides/python/contrib.layers) packages for this layer. For more of a challenge, only use other TensorFlow packages."
   ]
  },
  {
   "cell_type": "code",
   "execution_count": 246,
   "metadata": {},
   "outputs": [
    {
     "name": "stdout",
     "output_type": "stream",
     "text": [
      "Tests Passed\n"
     ]
    }
   ],
   "source": [
    "def fully_conn(x_tensor, num_outputs):\n",
    "    \"\"\"\n",
    "    Apply a fully connected layer to x_tensor using weight and bias\n",
    "    : x_tensor: A 2-D tensor where the first dimension is batch size.\n",
    "    : num_outputs: The number of output that the new tensor should be.\n",
    "    : return: A 2-D tensor where the second dimension is num_outputs.\n",
    "    \"\"\"\n",
    "    # TODO: Implement Function\n",
    "    x = tf.layers.dense(x_tensor, num_outputs)\n",
    "    \n",
    "    return tf.nn.relu(x)\n",
    "\n",
    "\n",
    "\"\"\"\n",
    "DON'T MODIFY ANYTHING IN THIS CELL THAT IS BELOW THIS LINE\n",
    "\"\"\"\n",
    "tests.test_fully_conn(fully_conn)"
   ]
  },
  {
   "cell_type": "markdown",
   "metadata": {},
   "source": [
    "### Output Layer\n",
    "Implement the `output` function to apply a fully connected layer to `x_tensor` with the shape (*Batch Size*, *num_outputs*). Shortcut option: you can use classes from the [TensorFlow Layers](https://www.tensorflow.org/api_docs/python/tf/layers) or [TensorFlow Layers (contrib)](https://www.tensorflow.org/api_guides/python/contrib.layers) packages for this layer. For more of a challenge, only use other TensorFlow packages.\n",
    "\n",
    "**Note:** Activation, softmax, or cross entropy should **not** be applied to this."
   ]
  },
  {
   "cell_type": "code",
   "execution_count": 247,
   "metadata": {},
   "outputs": [
    {
     "name": "stdout",
     "output_type": "stream",
     "text": [
      "Tests Passed\n"
     ]
    }
   ],
   "source": [
    "def output(x_tensor, num_outputs):\n",
    "    \"\"\"\n",
    "    Apply a output layer to x_tensor using weight and bias\n",
    "    : x_tensor: A 2-D tensor where the first dimension is batch size.\n",
    "    : num_outputs: The number of output that the new tensor should be.\n",
    "    : return: A 2-D tensor where the second dimension is num_outputs.\n",
    "    \"\"\"\n",
    "    # TODO: Implement Function\n",
    "    x = tf.layers.dense(x_tensor, num_outputs)\n",
    "    \n",
    "    return tf.nn.sigmoid(x)\n",
    "\n",
    "\"\"\"\n",
    "DON'T MODIFY ANYTHING IN THIS CELL THAT IS BELOW THIS LINE\n",
    "\"\"\"\n",
    "tests.test_output(output)"
   ]
  },
  {
   "cell_type": "markdown",
   "metadata": {},
   "source": [
    "### Create Convolutional Model\n",
    "Implement the function `conv_net` to create a convolutional neural network model. The function takes in a batch of images, `x`, and outputs logits.  Use the layers you created above to create this model:\n",
    "\n",
    "* Apply 1, 2, or 3 Convolution and Max Pool layers\n",
    "* Apply a Flatten Layer\n",
    "* Apply 1, 2, or 3 Fully Connected Layers\n",
    "* Apply an Output Layer\n",
    "* Return the output\n",
    "* Apply [TensorFlow's Dropout](https://www.tensorflow.org/api_docs/python/tf/nn/dropout) to one or more layers in the model using `keep_prob`. "
   ]
  },
  {
   "cell_type": "code",
   "execution_count": 296,
   "metadata": {},
   "outputs": [
    {
     "name": "stdout",
     "output_type": "stream",
     "text": [
      "Neural Network Built!\n"
     ]
    }
   ],
   "source": [
    "def conv_net(x, keep_prob):\n",
    "    \"\"\"\n",
    "    Create a convolutional neural network model\n",
    "    : x: Placeholder tensor that holds image data.\n",
    "    : keep_prob: Placeholder tensor that hold dropout keep probability.\n",
    "    : return: Tensor that represents logits\n",
    "    \"\"\"\n",
    "    # TODO: Apply 1, 2, or 3 Convolution and Max Pool layers\n",
    "    #    Play around with different number of outputs, kernel size and stride\n",
    "    # Function Definition from Above:\n",
    "    #    conv2d_maxpool(x_tensor, conv_num_outputs, conv_ksize, conv_strides, pool_ksize, pool_strides)\n",
    "    y = conv2d_maxpool(x, 32, [7,7], [2,2], [2,2], [2,2]);\n",
    "    y = tf.nn.dropout(y, keep_prob)\n",
    "    y = conv2d_maxpool(y, 64, [5,5], [2,2], [2,2], [2,2]);\n",
    "    #y = conv2d_maxpool(y, 64, [3,3], [2,2], [2,2], [2,2]);\n",
    "    \n",
    "\n",
    "    # TODO: Apply a Flatten Layer\n",
    "    # Function Definition from Above:\n",
    "    #   flatten(x_tensor)\n",
    "    y = flatten(y)\n",
    "\n",
    "    # TODO: Apply 1, 2, or 3 Fully Connected Layers\n",
    "    #    Play around with different number of outputs\n",
    "    # Function Definition from Above:\n",
    "    #   fully_conn(x_tensor, num_outputs)\n",
    "    y = tf.nn.dropout(y, keep_prob)\n",
    "    y = fully_conn(y, 2048)\n",
    "    y = tf.nn.dropout(y, keep_prob)\n",
    "    #y = tf.nn.dropout(y, keep_prob)\n",
    "    #y = fully_conn(y, 512)\n",
    "    y = fully_conn(y, 2048)\n",
    "    y = tf.nn.dropout(y, keep_prob)\n",
    "    #y = tf.nn.dropout(y, keep_prob)\n",
    "    \n",
    "    # TODO: Apply an Output Layer\n",
    "    #    Set this to the number of classes\n",
    "    # Function Definition from Above:\n",
    "    #   output(x_tensor, num_outputs)\n",
    "    y = output(y, 10)\n",
    "    \n",
    "    # TODO: return output\n",
    "    return y\n",
    "\n",
    "\n",
    "\"\"\"\n",
    "DON'T MODIFY ANYTHING IN THIS CELL THAT IS BELOW THIS LINE\n",
    "\"\"\"\n",
    "\n",
    "##############################\n",
    "## Build the Neural Network ##\n",
    "##############################\n",
    "\n",
    "# Remove previous weights, bias, inputs, etc..\n",
    "tf.reset_default_graph()\n",
    "\n",
    "# Inputs\n",
    "x = neural_net_image_input((32, 32, 3))\n",
    "y = neural_net_label_input(10)\n",
    "keep_prob = neural_net_keep_prob_input()\n",
    "\n",
    "# Model\n",
    "logits = conv_net(x, keep_prob)\n",
    "\n",
    "# Name logits Tensor, so that is can be loaded from disk after training\n",
    "logits = tf.identity(logits, name='logits')\n",
    "\n",
    "# Loss and Optimizer\n",
    "cost = tf.reduce_mean(tf.nn.softmax_cross_entropy_with_logits(logits=logits, labels=y))\n",
    "optimizer = tf.train.AdamOptimizer().minimize(cost)\n",
    "\n",
    "# Accuracy\n",
    "correct_pred = tf.equal(tf.argmax(logits, 1), tf.argmax(y, 1))\n",
    "accuracy = tf.reduce_mean(tf.cast(correct_pred, tf.float32), name='accuracy')\n",
    "\n",
    "tests.test_conv_net(conv_net)"
   ]
  },
  {
   "cell_type": "markdown",
   "metadata": {},
   "source": [
    "## Train the Neural Network\n",
    "### Single Optimization\n",
    "Implement the function `train_neural_network` to do a single optimization.  The optimization should use `optimizer` to optimize in `session` with a `feed_dict` of the following:\n",
    "* `x` for image input\n",
    "* `y` for labels\n",
    "* `keep_prob` for keep probability for dropout\n",
    "\n",
    "This function will be called for each batch, so `tf.global_variables_initializer()` has already been called.\n",
    "\n",
    "Note: Nothing needs to be returned. This function is only optimizing the neural network."
   ]
  },
  {
   "cell_type": "code",
   "execution_count": 297,
   "metadata": {},
   "outputs": [
    {
     "name": "stdout",
     "output_type": "stream",
     "text": [
      "Tests Passed\n"
     ]
    }
   ],
   "source": [
    "def train_neural_network(session, optimizer, keep_probability, feature_batch, label_batch):\n",
    "    \"\"\"\n",
    "    Optimize the session on a batch of images and labels\n",
    "    : session: Current TensorFlow session\n",
    "    : optimizer: TensorFlow optimizer function\n",
    "    : keep_probability: keep probability\n",
    "    : feature_batch: Batch of Numpy image data\n",
    "    : label_batch: Batch of Numpy label data\n",
    "    \"\"\"\n",
    "    # TODO: Implement Function\n",
    "    session.run(optimizer, feed_dict={x: feature_batch, y: label_batch, keep_prob: keep_probability})\n",
    "\n",
    "\"\"\"\n",
    "DON'T MODIFY ANYTHING IN THIS CELL THAT IS BELOW THIS LINE\n",
    "\"\"\"\n",
    "tests.test_train_nn(train_neural_network)"
   ]
  },
  {
   "cell_type": "markdown",
   "metadata": {},
   "source": [
    "### Show Stats\n",
    "Implement the function `print_stats` to print loss and validation accuracy.  Use the global variables `valid_features` and `valid_labels` to calculate validation accuracy.  Use a keep probability of `1.0` to calculate the loss and validation accuracy."
   ]
  },
  {
   "cell_type": "code",
   "execution_count": 298,
   "metadata": {},
   "outputs": [],
   "source": [
    "def print_stats(session, feature_batch, label_batch, cost, accuracy):\n",
    "    \"\"\"\n",
    "    Print information about loss and validation accuracy\n",
    "    : session: Current TensorFlow session\n",
    "    : feature_batch: Batch of Numpy image data\n",
    "    : label_batch: Batch of Numpy label data\n",
    "    : cost: TensorFlow cost function\n",
    "    : accuracy: TensorFlow accuracy function\n",
    "    \"\"\"\n",
    "    # TODO: Implement Function\n",
    "    loss, acc = session.run([cost, accuracy], feed_dict={x: valid_features, y: valid_labels, keep_prob: 1.})\n",
    "    \n",
    "    print('loss: {}, acc: {}'.format(loss,acc))"
   ]
  },
  {
   "cell_type": "markdown",
   "metadata": {},
   "source": [
    "### Hyperparameters\n",
    "Tune the following parameters:\n",
    "* Set `epochs` to the number of iterations until the network stops learning or start overfitting\n",
    "* Set `batch_size` to the highest number that your machine has memory for.  Most people set them to common sizes of memory:\n",
    " * 64\n",
    " * 128\n",
    " * 256\n",
    " * ...\n",
    "* Set `keep_probability` to the probability of keeping a node using dropout"
   ]
  },
  {
   "cell_type": "code",
   "execution_count": 299,
   "metadata": {
    "collapsed": true
   },
   "outputs": [],
   "source": [
    "# TODO: Tune Parameters\n",
    "epochs = 50\n",
    "batch_size = 1024\n",
    "keep_probability = 0.8"
   ]
  },
  {
   "cell_type": "markdown",
   "metadata": {},
   "source": [
    "### Train on a Single CIFAR-10 Batch\n",
    "Instead of training the neural network on all the CIFAR-10 batches of data, let's use a single batch. This should save time while you iterate on the model to get a better accuracy.  Once the final validation accuracy is 50% or greater, run the model on all the data in the next section."
   ]
  },
  {
   "cell_type": "code",
   "execution_count": 300,
   "metadata": {},
   "outputs": [
    {
     "name": "stdout",
     "output_type": "stream",
     "text": [
      "Checking the Training on a Single Batch...\n",
      "Epoch  1, CIFAR-10 Batch 1:  loss: 2.2117505073547363, acc: 0.17099997401237488\n",
      "Epoch  2, CIFAR-10 Batch 1:  loss: 2.0825817584991455, acc: 0.2751999795436859\n",
      "Epoch  3, CIFAR-10 Batch 1:  loss: 2.042494297027588, acc: 0.29420000314712524\n",
      "Epoch  4, CIFAR-10 Batch 1:  loss: 2.009035348892212, acc: 0.3353999853134155\n",
      "Epoch  5, CIFAR-10 Batch 1:  loss: 2.005211353302002, acc: 0.3312000036239624\n",
      "Epoch  6, CIFAR-10 Batch 1:  loss: 1.9711894989013672, acc: 0.37759995460510254\n",
      "Epoch  7, CIFAR-10 Batch 1:  loss: 1.9499881267547607, acc: 0.38719993829727173\n",
      "Epoch  8, CIFAR-10 Batch 1:  loss: 1.9393633604049683, acc: 0.3869999945163727\n",
      "Epoch  9, CIFAR-10 Batch 1:  loss: 1.9344518184661865, acc: 0.39459994435310364\n",
      "Epoch 10, CIFAR-10 Batch 1:  loss: 1.915435791015625, acc: 0.4071999788284302\n",
      "Epoch 11, CIFAR-10 Batch 1:  loss: 1.910029649734497, acc: 0.42139995098114014\n",
      "Epoch 12, CIFAR-10 Batch 1:  loss: 1.9129371643066406, acc: 0.4163999855518341\n",
      "Epoch 13, CIFAR-10 Batch 1:  loss: 1.9076976776123047, acc: 0.4177999496459961\n",
      "Epoch 14, CIFAR-10 Batch 1:  loss: 1.8958542346954346, acc: 0.4355999827384949\n",
      "Epoch 15, CIFAR-10 Batch 1:  loss: 1.8866087198257446, acc: 0.431399941444397\n",
      "Epoch 16, CIFAR-10 Batch 1:  loss: 1.893505334854126, acc: 0.42939993739128113\n",
      "Epoch 17, CIFAR-10 Batch 1:  loss: 1.8933314085006714, acc: 0.4437999725341797\n",
      "Epoch 18, CIFAR-10 Batch 1:  loss: 1.8854634761810303, acc: 0.454399973154068\n",
      "Epoch 19, CIFAR-10 Batch 1:  loss: 1.8866119384765625, acc: 0.44099995493888855\n",
      "Epoch 20, CIFAR-10 Batch 1:  loss: 1.8739386796951294, acc: 0.4639999270439148\n",
      "Epoch 21, CIFAR-10 Batch 1:  loss: 1.8768905401229858, acc: 0.4618000090122223\n",
      "Epoch 22, CIFAR-10 Batch 1:  loss: 1.8614338636398315, acc: 0.4689999222755432\n",
      "Epoch 23, CIFAR-10 Batch 1:  loss: 1.8629595041275024, acc: 0.4663999676704407\n",
      "Epoch 24, CIFAR-10 Batch 1:  loss: 1.8664084672927856, acc: 0.468999981880188\n",
      "Epoch 25, CIFAR-10 Batch 1:  loss: 1.8550128936767578, acc: 0.4747999310493469\n",
      "Epoch 26, CIFAR-10 Batch 1:  loss: 1.8586987257003784, acc: 0.47999995946884155\n",
      "Epoch 27, CIFAR-10 Batch 1:  loss: 1.8493666648864746, acc: 0.4859999418258667\n",
      "Epoch 28, CIFAR-10 Batch 1:  loss: 1.8507177829742432, acc: 0.48719993233680725\n",
      "Epoch 29, CIFAR-10 Batch 1:  loss: 1.8477156162261963, acc: 0.49039992690086365\n",
      "Epoch 30, CIFAR-10 Batch 1:  loss: 1.8483413457870483, acc: 0.4893999397754669\n",
      "Epoch 31, CIFAR-10 Batch 1:  loss: 1.8428199291229248, acc: 0.48719993233680725\n",
      "Epoch 32, CIFAR-10 Batch 1:  loss: 1.8410255908966064, acc: 0.4957999289035797\n",
      "Epoch 33, CIFAR-10 Batch 1:  loss: 1.8426812887191772, acc: 0.49379995465278625\n",
      "Epoch 34, CIFAR-10 Batch 1:  loss: 1.8422796726226807, acc: 0.4949999451637268\n",
      "Epoch 35, CIFAR-10 Batch 1:  loss: 1.8428194522857666, acc: 0.5003999471664429\n",
      "Epoch 36, CIFAR-10 Batch 1:  loss: 1.8390531539916992, acc: 0.5047999620437622\n",
      "Epoch 37, CIFAR-10 Batch 1:  loss: 1.841840386390686, acc: 0.5027999877929688\n",
      "Epoch 38, CIFAR-10 Batch 1:  loss: 1.8479704856872559, acc: 0.5021998882293701\n",
      "Epoch 39, CIFAR-10 Batch 1:  loss: 1.8287807703018188, acc: 0.514799952507019\n",
      "Epoch 40, CIFAR-10 Batch 1:  loss: 1.834634780883789, acc: 0.5113999843597412\n",
      "Epoch 41, CIFAR-10 Batch 1:  loss: 1.828466534614563, acc: 0.5157999396324158\n",
      "Epoch 42, CIFAR-10 Batch 1:  loss: 1.8319225311279297, acc: 0.5017999410629272\n",
      "Epoch 43, CIFAR-10 Batch 1:  loss: 1.8283874988555908, acc: 0.5055999755859375\n",
      "Epoch 44, CIFAR-10 Batch 1:  loss: 1.8325855731964111, acc: 0.515999972820282\n",
      "Epoch 45, CIFAR-10 Batch 1:  loss: 1.8395721912384033, acc: 0.5115999579429626\n",
      "Epoch 46, CIFAR-10 Batch 1:  loss: 1.8258748054504395, acc: 0.5207999348640442\n",
      "Epoch 47, CIFAR-10 Batch 1:  loss: 1.827362298965454, acc: 0.5227999091148376\n",
      "Epoch 48, CIFAR-10 Batch 1:  loss: 1.8282464742660522, acc: 0.5219999551773071\n",
      "Epoch 49, CIFAR-10 Batch 1:  loss: 1.8231523036956787, acc: 0.5287999510765076\n",
      "Epoch 50, CIFAR-10 Batch 1:  loss: 1.8224564790725708, acc: 0.5303999781608582\n"
     ]
    }
   ],
   "source": [
    "\"\"\"\n",
    "DON'T MODIFY ANYTHING IN THIS CELL\n",
    "\"\"\"\n",
    "print('Checking the Training on a Single Batch...')\n",
    "with tf.Session() as sess:\n",
    "    # Initializing the variables\n",
    "    sess.run(tf.global_variables_initializer())\n",
    "    \n",
    "    # Training cycle\n",
    "    for epoch in range(epochs):\n",
    "        batch_i = 1\n",
    "        for batch_features, batch_labels in helper.load_preprocess_training_batch(batch_i, batch_size):\n",
    "            train_neural_network(sess, optimizer, keep_probability, batch_features, batch_labels)\n",
    "        print('Epoch {:>2}, CIFAR-10 Batch {}:  '.format(epoch + 1, batch_i), end='')\n",
    "        print_stats(sess, batch_features, batch_labels, cost, accuracy)"
   ]
  },
  {
   "cell_type": "markdown",
   "metadata": {},
   "source": [
    "### Fully Train the Model\n",
    "Now that you got a good accuracy with a single CIFAR-10 batch, try it with all five batches."
   ]
  },
  {
   "cell_type": "code",
   "execution_count": 301,
   "metadata": {},
   "outputs": [
    {
     "name": "stdout",
     "output_type": "stream",
     "text": [
      "Training...\n",
      "Epoch  1, CIFAR-10 Batch 1:  loss: 2.2061173915863037, acc: 0.2093999981880188\n",
      "Epoch  1, CIFAR-10 Batch 2:  loss: 2.101573944091797, acc: 0.25039997696876526\n",
      "Epoch  1, CIFAR-10 Batch 3:  loss: 2.086008071899414, acc: 0.2639999985694885\n",
      "Epoch  1, CIFAR-10 Batch 4:  loss: 2.0156285762786865, acc: 0.32739996910095215\n",
      "Epoch  1, CIFAR-10 Batch 5:  loss: 2.00384259223938, acc: 0.3341999650001526\n",
      "Epoch  2, CIFAR-10 Batch 1:  loss: 1.992349624633789, acc: 0.33559995889663696\n",
      "Epoch  2, CIFAR-10 Batch 2:  loss: 1.9622578620910645, acc: 0.35659998655319214\n",
      "Epoch  2, CIFAR-10 Batch 3:  loss: 1.9488611221313477, acc: 0.3863999843597412\n",
      "Epoch  2, CIFAR-10 Batch 4:  loss: 1.9432305097579956, acc: 0.38079994916915894\n",
      "Epoch  2, CIFAR-10 Batch 5:  loss: 1.9267851114273071, acc: 0.39579999446868896\n",
      "Epoch  3, CIFAR-10 Batch 1:  loss: 1.9143105745315552, acc: 0.41519999504089355\n",
      "Epoch  3, CIFAR-10 Batch 2:  loss: 1.9025596380233765, acc: 0.4241999685764313\n",
      "Epoch  3, CIFAR-10 Batch 3:  loss: 1.9107455015182495, acc: 0.4137999713420868\n",
      "Epoch  3, CIFAR-10 Batch 4:  loss: 1.898302435874939, acc: 0.41919994354248047\n",
      "Epoch  3, CIFAR-10 Batch 5:  loss: 1.8895320892333984, acc: 0.4265999495983124\n",
      "Epoch  4, CIFAR-10 Batch 1:  loss: 1.9010870456695557, acc: 0.42219996452331543\n",
      "Epoch  4, CIFAR-10 Batch 2:  loss: 1.8893405199050903, acc: 0.43379998207092285\n",
      "Epoch  4, CIFAR-10 Batch 3:  loss: 1.8896031379699707, acc: 0.4407999813556671\n",
      "Epoch  4, CIFAR-10 Batch 4:  loss: 1.873603105545044, acc: 0.44819995760917664\n",
      "Epoch  4, CIFAR-10 Batch 5:  loss: 1.8730347156524658, acc: 0.44519996643066406\n",
      "Epoch  5, CIFAR-10 Batch 1:  loss: 1.8827931880950928, acc: 0.4477999806404114\n",
      "Epoch  5, CIFAR-10 Batch 2:  loss: 1.8747832775115967, acc: 0.4495999813079834\n",
      "Epoch  5, CIFAR-10 Batch 3:  loss: 1.8703069686889648, acc: 0.4615999758243561\n",
      "Epoch  5, CIFAR-10 Batch 4:  loss: 1.8598079681396484, acc: 0.4769999384880066\n",
      "Epoch  5, CIFAR-10 Batch 5:  loss: 1.8560391664505005, acc: 0.47519996762275696\n",
      "Epoch  6, CIFAR-10 Batch 1:  loss: 1.8565850257873535, acc: 0.47339996695518494\n",
      "Epoch  6, CIFAR-10 Batch 2:  loss: 1.8602027893066406, acc: 0.4789999723434448\n",
      "Epoch  6, CIFAR-10 Batch 3:  loss: 1.8729923963546753, acc: 0.46059995889663696\n",
      "Epoch  6, CIFAR-10 Batch 4:  loss: 1.8466840982437134, acc: 0.4829999804496765\n",
      "Epoch  6, CIFAR-10 Batch 5:  loss: 1.852926254272461, acc: 0.48139992356300354\n",
      "Epoch  7, CIFAR-10 Batch 1:  loss: 1.844761610031128, acc: 0.4941999614238739\n",
      "Epoch  7, CIFAR-10 Batch 2:  loss: 1.845396876335144, acc: 0.4899999797344208\n",
      "Epoch  7, CIFAR-10 Batch 3:  loss: 1.8457200527191162, acc: 0.48339998722076416\n",
      "Epoch  7, CIFAR-10 Batch 4:  loss: 1.8355953693389893, acc: 0.494799941778183\n",
      "Epoch  7, CIFAR-10 Batch 5:  loss: 1.8427156209945679, acc: 0.4893999695777893\n",
      "Epoch  8, CIFAR-10 Batch 1:  loss: 1.8456205129623413, acc: 0.4833999574184418\n",
      "Epoch  8, CIFAR-10 Batch 2:  loss: 1.8363672494888306, acc: 0.4991999566555023\n",
      "Epoch  8, CIFAR-10 Batch 3:  loss: 1.832460641860962, acc: 0.49859991669654846\n",
      "Epoch  8, CIFAR-10 Batch 4:  loss: 1.830592155456543, acc: 0.5031999349594116\n",
      "Epoch  8, CIFAR-10 Batch 5:  loss: 1.8320978879928589, acc: 0.5022000074386597\n",
      "Epoch  9, CIFAR-10 Batch 1:  loss: 1.8335964679718018, acc: 0.4987999200820923\n",
      "Epoch  9, CIFAR-10 Batch 2:  loss: 1.8215854167938232, acc: 0.5175999999046326\n",
      "Epoch  9, CIFAR-10 Batch 3:  loss: 1.827985405921936, acc: 0.5065999031066895\n",
      "Epoch  9, CIFAR-10 Batch 4:  loss: 1.8222962617874146, acc: 0.5143998861312866\n",
      "Epoch  9, CIFAR-10 Batch 5:  loss: 1.823124647140503, acc: 0.5175999402999878\n",
      "Epoch 10, CIFAR-10 Batch 1:  loss: 1.8263661861419678, acc: 0.5101999044418335\n",
      "Epoch 10, CIFAR-10 Batch 2:  loss: 1.8269603252410889, acc: 0.5169999599456787\n",
      "Epoch 10, CIFAR-10 Batch 3:  loss: 1.8170466423034668, acc: 0.5151998996734619\n",
      "Epoch 10, CIFAR-10 Batch 4:  loss: 1.8121020793914795, acc: 0.5201999545097351\n",
      "Epoch 10, CIFAR-10 Batch 5:  loss: 1.8157099485397339, acc: 0.5251999497413635\n",
      "Epoch 11, CIFAR-10 Batch 1:  loss: 1.8186111450195312, acc: 0.5169999599456787\n",
      "Epoch 11, CIFAR-10 Batch 2:  loss: 1.8075112104415894, acc: 0.5189999341964722\n",
      "Epoch 11, CIFAR-10 Batch 3:  loss: 1.8108478784561157, acc: 0.5227999091148376\n",
      "Epoch 11, CIFAR-10 Batch 4:  loss: 1.8047268390655518, acc: 0.5381999015808105\n",
      "Epoch 11, CIFAR-10 Batch 5:  loss: 1.8038710355758667, acc: 0.5381999015808105\n",
      "Epoch 12, CIFAR-10 Batch 1:  loss: 1.8092612028121948, acc: 0.5297999382019043\n",
      "Epoch 12, CIFAR-10 Batch 2:  loss: 1.8054203987121582, acc: 0.531999945640564\n",
      "Epoch 12, CIFAR-10 Batch 3:  loss: 1.835371732711792, acc: 0.5109999179840088\n",
      "Epoch 12, CIFAR-10 Batch 4:  loss: 1.802313208580017, acc: 0.5269999504089355\n",
      "Epoch 12, CIFAR-10 Batch 5:  loss: 1.806687831878662, acc: 0.5299999117851257\n",
      "Epoch 13, CIFAR-10 Batch 1:  loss: 1.8025277853012085, acc: 0.535599946975708\n",
      "Epoch 13, CIFAR-10 Batch 2:  loss: 1.802999496459961, acc: 0.5445998907089233\n",
      "Epoch 13, CIFAR-10 Batch 3:  loss: 1.8062622547149658, acc: 0.5309998989105225\n",
      "Epoch 13, CIFAR-10 Batch 4:  loss: 1.7986600399017334, acc: 0.5429999828338623\n",
      "Epoch 13, CIFAR-10 Batch 5:  loss: 1.802912712097168, acc: 0.5389999151229858\n",
      "Epoch 14, CIFAR-10 Batch 1:  loss: 1.7924385070800781, acc: 0.5459999442100525\n",
      "Epoch 14, CIFAR-10 Batch 2:  loss: 1.7937366962432861, acc: 0.5568000078201294\n",
      "Epoch 14, CIFAR-10 Batch 3:  loss: 1.7912495136260986, acc: 0.5507999658584595\n",
      "Epoch 14, CIFAR-10 Batch 4:  loss: 1.7869151830673218, acc: 0.5467999577522278\n",
      "Epoch 14, CIFAR-10 Batch 5:  loss: 1.7905189990997314, acc: 0.5513999462127686\n",
      "Epoch 15, CIFAR-10 Batch 1:  loss: 1.7882314920425415, acc: 0.5487999320030212\n",
      "Epoch 15, CIFAR-10 Batch 2:  loss: 1.7874016761779785, acc: 0.5504000186920166\n",
      "Epoch 15, CIFAR-10 Batch 3:  loss: 1.7997064590454102, acc: 0.5399999618530273\n",
      "Epoch 15, CIFAR-10 Batch 4:  loss: 1.7853927612304688, acc: 0.5625998973846436\n",
      "Epoch 15, CIFAR-10 Batch 5:  loss: 1.7821003198623657, acc: 0.5647999048233032\n",
      "Epoch 16, CIFAR-10 Batch 1:  loss: 1.796621561050415, acc: 0.548599898815155\n",
      "Epoch 16, CIFAR-10 Batch 2:  loss: 1.7863850593566895, acc: 0.5627999305725098\n",
      "Epoch 16, CIFAR-10 Batch 3:  loss: 1.7844150066375732, acc: 0.5605999231338501\n",
      "Epoch 16, CIFAR-10 Batch 4:  loss: 1.7894642353057861, acc: 0.5567998886108398\n",
      "Epoch 16, CIFAR-10 Batch 5:  loss: 1.7852586507797241, acc: 0.5615999698638916\n",
      "Epoch 17, CIFAR-10 Batch 1:  loss: 1.781174898147583, acc: 0.5607998967170715\n",
      "Epoch 17, CIFAR-10 Batch 2:  loss: 1.7842882871627808, acc: 0.5595999360084534\n",
      "Epoch 17, CIFAR-10 Batch 3:  loss: 1.7935328483581543, acc: 0.546799898147583\n",
      "Epoch 17, CIFAR-10 Batch 4:  loss: 1.7794034481048584, acc: 0.5739998817443848\n",
      "Epoch 17, CIFAR-10 Batch 5:  loss: 1.7763179540634155, acc: 0.578799843788147\n",
      "Epoch 18, CIFAR-10 Batch 1:  loss: 1.7711429595947266, acc: 0.5747998952865601\n",
      "Epoch 18, CIFAR-10 Batch 2:  loss: 1.77364182472229, acc: 0.5743998885154724\n",
      "Epoch 18, CIFAR-10 Batch 3:  loss: 1.775144338607788, acc: 0.5663999319076538\n",
      "Epoch 18, CIFAR-10 Batch 4:  loss: 1.7679193019866943, acc: 0.5813999176025391\n",
      "Epoch 18, CIFAR-10 Batch 5:  loss: 1.7700748443603516, acc: 0.5815998911857605\n",
      "Epoch 19, CIFAR-10 Batch 1:  loss: 1.7755712270736694, acc: 0.569599986076355\n",
      "Epoch 19, CIFAR-10 Batch 2:  loss: 1.7769498825073242, acc: 0.5745999813079834\n",
      "Epoch 19, CIFAR-10 Batch 3:  loss: 1.7768021821975708, acc: 0.5681999325752258\n",
      "Epoch 19, CIFAR-10 Batch 4:  loss: 1.7725059986114502, acc: 0.5785999298095703\n",
      "Epoch 19, CIFAR-10 Batch 5:  loss: 1.7631696462631226, acc: 0.5893998742103577\n",
      "Epoch 20, CIFAR-10 Batch 1:  loss: 1.7688909769058228, acc: 0.5825999975204468\n",
      "Epoch 20, CIFAR-10 Batch 2:  loss: 1.7647266387939453, acc: 0.5831999182701111\n",
      "Epoch 20, CIFAR-10 Batch 3:  loss: 1.765282392501831, acc: 0.5805999636650085\n",
      "Epoch 20, CIFAR-10 Batch 4:  loss: 1.7712371349334717, acc: 0.5823999643325806\n",
      "Epoch 20, CIFAR-10 Batch 5:  loss: 1.7723019123077393, acc: 0.5857999920845032\n",
      "Epoch 21, CIFAR-10 Batch 1:  loss: 1.775207281112671, acc: 0.578999936580658\n",
      "Epoch 21, CIFAR-10 Batch 2:  loss: 1.7736643552780151, acc: 0.5761998891830444\n",
      "Epoch 21, CIFAR-10 Batch 3:  loss: 1.7744426727294922, acc: 0.5735999345779419\n",
      "Epoch 21, CIFAR-10 Batch 4:  loss: 1.767133116722107, acc: 0.5919999480247498\n"
     ]
    },
    {
     "name": "stdout",
     "output_type": "stream",
     "text": [
      "Epoch 21, CIFAR-10 Batch 5:  loss: 1.7642351388931274, acc: 0.5891999006271362\n",
      "Epoch 22, CIFAR-10 Batch 1:  loss: 1.7617156505584717, acc: 0.5913999080657959\n",
      "Epoch 22, CIFAR-10 Batch 2:  loss: 1.7638914585113525, acc: 0.5911999344825745\n",
      "Epoch 22, CIFAR-10 Batch 3:  loss: 1.7658779621124268, acc: 0.5853999853134155\n",
      "Epoch 22, CIFAR-10 Batch 4:  loss: 1.7639803886413574, acc: 0.5969999432563782\n",
      "Epoch 22, CIFAR-10 Batch 5:  loss: 1.7618272304534912, acc: 0.5949999690055847\n",
      "Epoch 23, CIFAR-10 Batch 1:  loss: 1.7593461275100708, acc: 0.5971999168395996\n",
      "Epoch 23, CIFAR-10 Batch 2:  loss: 1.7605518102645874, acc: 0.5879998803138733\n",
      "Epoch 23, CIFAR-10 Batch 3:  loss: 1.7587599754333496, acc: 0.597000002861023\n",
      "Epoch 23, CIFAR-10 Batch 4:  loss: 1.7579388618469238, acc: 0.5935998558998108\n",
      "Epoch 23, CIFAR-10 Batch 5:  loss: 1.759108066558838, acc: 0.5965998768806458\n",
      "Epoch 24, CIFAR-10 Batch 1:  loss: 1.7561829090118408, acc: 0.6061999797821045\n",
      "Epoch 24, CIFAR-10 Batch 2:  loss: 1.7644374370574951, acc: 0.5931999087333679\n",
      "Epoch 24, CIFAR-10 Batch 3:  loss: 1.758689522743225, acc: 0.5923999547958374\n",
      "Epoch 24, CIFAR-10 Batch 4:  loss: 1.7707269191741943, acc: 0.5839999318122864\n",
      "Epoch 24, CIFAR-10 Batch 5:  loss: 1.7514567375183105, acc: 0.5991998910903931\n",
      "Epoch 25, CIFAR-10 Batch 1:  loss: 1.752632737159729, acc: 0.6055998802185059\n",
      "Epoch 25, CIFAR-10 Batch 2:  loss: 1.7634634971618652, acc: 0.593799889087677\n",
      "Epoch 25, CIFAR-10 Batch 3:  loss: 1.7529689073562622, acc: 0.6009998917579651\n",
      "Epoch 25, CIFAR-10 Batch 4:  loss: 1.7527403831481934, acc: 0.6039998531341553\n",
      "Epoch 25, CIFAR-10 Batch 5:  loss: 1.7483712434768677, acc: 0.605199933052063\n",
      "Epoch 26, CIFAR-10 Batch 1:  loss: 1.7575862407684326, acc: 0.6047999262809753\n",
      "Epoch 26, CIFAR-10 Batch 2:  loss: 1.7504721879959106, acc: 0.5983998775482178\n",
      "Epoch 26, CIFAR-10 Batch 3:  loss: 1.7534692287445068, acc: 0.5953999161720276\n",
      "Epoch 26, CIFAR-10 Batch 4:  loss: 1.750718355178833, acc: 0.6121999025344849\n",
      "Epoch 26, CIFAR-10 Batch 5:  loss: 1.747916579246521, acc: 0.6057999730110168\n",
      "Epoch 27, CIFAR-10 Batch 1:  loss: 1.7475767135620117, acc: 0.6125999093055725\n",
      "Epoch 27, CIFAR-10 Batch 2:  loss: 1.7470300197601318, acc: 0.608799934387207\n",
      "Epoch 27, CIFAR-10 Batch 3:  loss: 1.753819227218628, acc: 0.6001998782157898\n",
      "Epoch 27, CIFAR-10 Batch 4:  loss: 1.7502813339233398, acc: 0.6031998991966248\n",
      "Epoch 27, CIFAR-10 Batch 5:  loss: 1.7395683526992798, acc: 0.6133999824523926\n",
      "Epoch 28, CIFAR-10 Batch 1:  loss: 1.7430462837219238, acc: 0.6153998970985413\n",
      "Epoch 28, CIFAR-10 Batch 2:  loss: 1.7514286041259766, acc: 0.6039999723434448\n",
      "Epoch 28, CIFAR-10 Batch 3:  loss: 1.7621768712997437, acc: 0.5975998640060425\n",
      "Epoch 28, CIFAR-10 Batch 4:  loss: 1.7495371103286743, acc: 0.6091999411582947\n",
      "Epoch 28, CIFAR-10 Batch 5:  loss: 1.7428728342056274, acc: 0.619999885559082\n",
      "Epoch 29, CIFAR-10 Batch 1:  loss: 1.7610142230987549, acc: 0.5935998558998108\n",
      "Epoch 29, CIFAR-10 Batch 2:  loss: 1.7462948560714722, acc: 0.6085999011993408\n",
      "Epoch 29, CIFAR-10 Batch 3:  loss: 1.7494103908538818, acc: 0.6107999086380005\n",
      "Epoch 29, CIFAR-10 Batch 4:  loss: 1.744877815246582, acc: 0.610599935054779\n",
      "Epoch 29, CIFAR-10 Batch 5:  loss: 1.743629813194275, acc: 0.6167998909950256\n",
      "Epoch 30, CIFAR-10 Batch 1:  loss: 1.7447564601898193, acc: 0.6201999187469482\n",
      "Epoch 30, CIFAR-10 Batch 2:  loss: 1.743485689163208, acc: 0.6143999099731445\n",
      "Epoch 30, CIFAR-10 Batch 3:  loss: 1.742785930633545, acc: 0.6191998720169067\n",
      "Epoch 30, CIFAR-10 Batch 4:  loss: 1.7427852153778076, acc: 0.6155998706817627\n",
      "Epoch 30, CIFAR-10 Batch 5:  loss: 1.7490817308425903, acc: 0.6091998815536499\n",
      "Epoch 31, CIFAR-10 Batch 1:  loss: 1.747867226600647, acc: 0.6183999180793762\n",
      "Epoch 31, CIFAR-10 Batch 2:  loss: 1.7492001056671143, acc: 0.6115999221801758\n",
      "Epoch 31, CIFAR-10 Batch 3:  loss: 1.7444887161254883, acc: 0.6143999099731445\n",
      "Epoch 31, CIFAR-10 Batch 4:  loss: 1.7371129989624023, acc: 0.6255998611450195\n",
      "Epoch 31, CIFAR-10 Batch 5:  loss: 1.738040804862976, acc: 0.6207998991012573\n",
      "Epoch 32, CIFAR-10 Batch 1:  loss: 1.7413960695266724, acc: 0.6215998530387878\n",
      "Epoch 32, CIFAR-10 Batch 2:  loss: 1.7444559335708618, acc: 0.6099998950958252\n",
      "Epoch 32, CIFAR-10 Batch 3:  loss: 1.7364799976348877, acc: 0.6271998882293701\n",
      "Epoch 32, CIFAR-10 Batch 4:  loss: 1.7382915019989014, acc: 0.6187999248504639\n",
      "Epoch 32, CIFAR-10 Batch 5:  loss: 1.7362399101257324, acc: 0.6275999546051025\n",
      "Epoch 33, CIFAR-10 Batch 1:  loss: 1.73605215549469, acc: 0.6269998550415039\n",
      "Epoch 33, CIFAR-10 Batch 2:  loss: 1.7372416257858276, acc: 0.6279999017715454\n",
      "Epoch 33, CIFAR-10 Batch 3:  loss: 1.73379385471344, acc: 0.6315999031066895\n",
      "Epoch 33, CIFAR-10 Batch 4:  loss: 1.7363674640655518, acc: 0.6287999153137207\n",
      "Epoch 33, CIFAR-10 Batch 5:  loss: 1.7331041097640991, acc: 0.6331998705863953\n",
      "Epoch 34, CIFAR-10 Batch 1:  loss: 1.7463090419769287, acc: 0.6215999126434326\n",
      "Epoch 34, CIFAR-10 Batch 2:  loss: 1.7337732315063477, acc: 0.6279999017715454\n",
      "Epoch 34, CIFAR-10 Batch 3:  loss: 1.7356878519058228, acc: 0.6299999356269836\n",
      "Epoch 34, CIFAR-10 Batch 4:  loss: 1.7324061393737793, acc: 0.6351999044418335\n",
      "Epoch 34, CIFAR-10 Batch 5:  loss: 1.729368805885315, acc: 0.6379998922348022\n",
      "Epoch 35, CIFAR-10 Batch 1:  loss: 1.7312602996826172, acc: 0.6387999057769775\n",
      "Epoch 35, CIFAR-10 Batch 2:  loss: 1.7344409227371216, acc: 0.6333999037742615\n",
      "Epoch 35, CIFAR-10 Batch 3:  loss: 1.7360155582427979, acc: 0.6263999342918396\n",
      "Epoch 35, CIFAR-10 Batch 4:  loss: 1.7346553802490234, acc: 0.6339998841285706\n",
      "Epoch 35, CIFAR-10 Batch 5:  loss: 1.7310081720352173, acc: 0.634199857711792\n",
      "Epoch 36, CIFAR-10 Batch 1:  loss: 1.7365796566009521, acc: 0.6317999362945557\n",
      "Epoch 36, CIFAR-10 Batch 2:  loss: 1.7295273542404175, acc: 0.6401998996734619\n",
      "Epoch 36, CIFAR-10 Batch 3:  loss: 1.7404156923294067, acc: 0.6249998807907104\n",
      "Epoch 36, CIFAR-10 Batch 4:  loss: 1.7312406301498413, acc: 0.6319999098777771\n",
      "Epoch 36, CIFAR-10 Batch 5:  loss: 1.7315884828567505, acc: 0.6315999031066895\n",
      "Epoch 37, CIFAR-10 Batch 1:  loss: 1.7406954765319824, acc: 0.621799886226654\n",
      "Epoch 37, CIFAR-10 Batch 2:  loss: 1.739490032196045, acc: 0.6233999133110046\n",
      "Epoch 37, CIFAR-10 Batch 3:  loss: 1.729413390159607, acc: 0.6361998915672302\n",
      "Epoch 37, CIFAR-10 Batch 4:  loss: 1.7391067743301392, acc: 0.6209999322891235\n",
      "Epoch 37, CIFAR-10 Batch 5:  loss: 1.7372636795043945, acc: 0.6297999024391174\n",
      "Epoch 38, CIFAR-10 Batch 1:  loss: 1.7366220951080322, acc: 0.6299998760223389\n",
      "Epoch 38, CIFAR-10 Batch 2:  loss: 1.7324321269989014, acc: 0.6317998766899109\n",
      "Epoch 38, CIFAR-10 Batch 3:  loss: 1.7337849140167236, acc: 0.6357998847961426\n",
      "Epoch 38, CIFAR-10 Batch 4:  loss: 1.7295953035354614, acc: 0.6349998712539673\n",
      "Epoch 38, CIFAR-10 Batch 5:  loss: 1.7245787382125854, acc: 0.6417999267578125\n",
      "Epoch 39, CIFAR-10 Batch 1:  loss: 1.7309439182281494, acc: 0.6337999105453491\n",
      "Epoch 39, CIFAR-10 Batch 2:  loss: 1.7264206409454346, acc: 0.6381998658180237\n",
      "Epoch 39, CIFAR-10 Batch 3:  loss: 1.724971890449524, acc: 0.645599901676178\n",
      "Epoch 39, CIFAR-10 Batch 4:  loss: 1.7220244407653809, acc: 0.6453998684883118\n",
      "Epoch 39, CIFAR-10 Batch 5:  loss: 1.7276289463043213, acc: 0.6441999077796936\n",
      "Epoch 40, CIFAR-10 Batch 1:  loss: 1.7310391664505005, acc: 0.637199878692627\n",
      "Epoch 40, CIFAR-10 Batch 2:  loss: 1.737604022026062, acc: 0.6257998943328857\n",
      "Epoch 40, CIFAR-10 Batch 3:  loss: 1.729742169380188, acc: 0.6353998780250549\n",
      "Epoch 40, CIFAR-10 Batch 4:  loss: 1.730522632598877, acc: 0.6415998339653015\n",
      "Epoch 40, CIFAR-10 Batch 5:  loss: 1.7317315340042114, acc: 0.6329998970031738\n",
      "Epoch 41, CIFAR-10 Batch 1:  loss: 1.7314403057098389, acc: 0.6365998387336731\n",
      "Epoch 41, CIFAR-10 Batch 2:  loss: 1.7243536710739136, acc: 0.6453999280929565\n",
      "Epoch 41, CIFAR-10 Batch 3:  loss: 1.7285076379776, acc: 0.6357999444007874\n",
      "Epoch 41, CIFAR-10 Batch 4:  loss: 1.7282339334487915, acc: 0.642599880695343\n",
      "Epoch 41, CIFAR-10 Batch 5:  loss: 1.7302409410476685, acc: 0.6421998739242554\n",
      "Epoch 42, CIFAR-10 Batch 1:  loss: 1.7280174493789673, acc: 0.6465998291969299\n",
      "Epoch 42, CIFAR-10 Batch 2:  loss: 1.7244406938552856, acc: 0.6505998969078064\n",
      "Epoch 42, CIFAR-10 Batch 3:  loss: 1.7284433841705322, acc: 0.6423998475074768\n",
      "Epoch 42, CIFAR-10 Batch 4:  loss: 1.7269831895828247, acc: 0.6407999396324158\n"
     ]
    },
    {
     "name": "stdout",
     "output_type": "stream",
     "text": [
      "Epoch 42, CIFAR-10 Batch 5:  loss: 1.7288438081741333, acc: 0.6357998847961426\n",
      "Epoch 43, CIFAR-10 Batch 1:  loss: 1.723550796508789, acc: 0.6507998704910278\n",
      "Epoch 43, CIFAR-10 Batch 2:  loss: 1.7243837118148804, acc: 0.6435998678207397\n",
      "Epoch 43, CIFAR-10 Batch 3:  loss: 1.7266430854797363, acc: 0.6515998840332031\n",
      "Epoch 43, CIFAR-10 Batch 4:  loss: 1.7268701791763306, acc: 0.6453998684883118\n",
      "Epoch 43, CIFAR-10 Batch 5:  loss: 1.7225874662399292, acc: 0.6539998650550842\n",
      "Epoch 44, CIFAR-10 Batch 1:  loss: 1.7234901189804077, acc: 0.6517998576164246\n",
      "Epoch 44, CIFAR-10 Batch 2:  loss: 1.7216382026672363, acc: 0.6483998894691467\n",
      "Epoch 44, CIFAR-10 Batch 3:  loss: 1.7210915088653564, acc: 0.64739990234375\n",
      "Epoch 44, CIFAR-10 Batch 4:  loss: 1.7240068912506104, acc: 0.6433998942375183\n",
      "Epoch 44, CIFAR-10 Batch 5:  loss: 1.7221033573150635, acc: 0.6483998894691467\n",
      "Epoch 45, CIFAR-10 Batch 1:  loss: 1.7285006046295166, acc: 0.6515998840332031\n",
      "Epoch 45, CIFAR-10 Batch 2:  loss: 1.7230594158172607, acc: 0.6461998820304871\n",
      "Epoch 45, CIFAR-10 Batch 3:  loss: 1.7192463874816895, acc: 0.6507998108863831\n",
      "Epoch 45, CIFAR-10 Batch 4:  loss: 1.7206817865371704, acc: 0.6511999368667603\n",
      "Epoch 45, CIFAR-10 Batch 5:  loss: 1.7254031896591187, acc: 0.6471998691558838\n",
      "Epoch 46, CIFAR-10 Batch 1:  loss: 1.7241486310958862, acc: 0.6489998698234558\n",
      "Epoch 46, CIFAR-10 Batch 2:  loss: 1.730468511581421, acc: 0.6395998597145081\n",
      "Epoch 46, CIFAR-10 Batch 3:  loss: 1.7200161218643188, acc: 0.6513999104499817\n",
      "Epoch 46, CIFAR-10 Batch 4:  loss: 1.7184498310089111, acc: 0.650399923324585\n",
      "Epoch 46, CIFAR-10 Batch 5:  loss: 1.718874216079712, acc: 0.6489999294281006\n",
      "Epoch 47, CIFAR-10 Batch 1:  loss: 1.7204724550247192, acc: 0.6547998785972595\n",
      "Epoch 47, CIFAR-10 Batch 2:  loss: 1.7198431491851807, acc: 0.6587998867034912\n",
      "Epoch 47, CIFAR-10 Batch 3:  loss: 1.7211483716964722, acc: 0.6539998650550842\n",
      "Epoch 47, CIFAR-10 Batch 4:  loss: 1.721429705619812, acc: 0.6531998515129089\n",
      "Epoch 47, CIFAR-10 Batch 5:  loss: 1.7163619995117188, acc: 0.6533998847007751\n",
      "Epoch 48, CIFAR-10 Batch 1:  loss: 1.724791407585144, acc: 0.6461998820304871\n",
      "Epoch 48, CIFAR-10 Batch 2:  loss: 1.7298253774642944, acc: 0.6405999064445496\n",
      "Epoch 48, CIFAR-10 Batch 3:  loss: 1.7197685241699219, acc: 0.6523998975753784\n",
      "Epoch 48, CIFAR-10 Batch 4:  loss: 1.7225557565689087, acc: 0.6499998569488525\n",
      "Epoch 48, CIFAR-10 Batch 5:  loss: 1.7201355695724487, acc: 0.6541998982429504\n",
      "Epoch 49, CIFAR-10 Batch 1:  loss: 1.726197361946106, acc: 0.6501998901367188\n",
      "Epoch 49, CIFAR-10 Batch 2:  loss: 1.7263758182525635, acc: 0.652199923992157\n",
      "Epoch 49, CIFAR-10 Batch 3:  loss: 1.7221671342849731, acc: 0.6505999565124512\n",
      "Epoch 49, CIFAR-10 Batch 4:  loss: 1.7232637405395508, acc: 0.6445999145507812\n",
      "Epoch 49, CIFAR-10 Batch 5:  loss: 1.7192366123199463, acc: 0.6539998650550842\n",
      "Epoch 50, CIFAR-10 Batch 1:  loss: 1.7322238683700562, acc: 0.6469998359680176\n",
      "Epoch 50, CIFAR-10 Batch 2:  loss: 1.7248907089233398, acc: 0.64739990234375\n",
      "Epoch 50, CIFAR-10 Batch 3:  loss: 1.722137451171875, acc: 0.6433998346328735\n",
      "Epoch 50, CIFAR-10 Batch 4:  loss: 1.7199000120162964, acc: 0.6505998969078064\n",
      "Epoch 50, CIFAR-10 Batch 5:  loss: 1.7204811573028564, acc: 0.6491998434066772\n"
     ]
    }
   ],
   "source": [
    "\"\"\"\n",
    "DON'T MODIFY ANYTHING IN THIS CELL\n",
    "\"\"\"\n",
    "save_model_path = './image_classification'\n",
    "\n",
    "print('Training...')\n",
    "with tf.Session() as sess:\n",
    "    # Initializing the variables\n",
    "    sess.run(tf.global_variables_initializer())\n",
    "    \n",
    "    # Training cycle\n",
    "    for epoch in range(epochs):\n",
    "        # Loop over all batches\n",
    "        n_batches = 5\n",
    "        for batch_i in range(1, n_batches + 1):\n",
    "            for batch_features, batch_labels in helper.load_preprocess_training_batch(batch_i, batch_size):\n",
    "                train_neural_network(sess, optimizer, keep_probability, batch_features, batch_labels)\n",
    "            print('Epoch {:>2}, CIFAR-10 Batch {}:  '.format(epoch + 1, batch_i), end='')\n",
    "            print_stats(sess, batch_features, batch_labels, cost, accuracy)\n",
    "            \n",
    "    # Save Model\n",
    "    saver = tf.train.Saver()\n",
    "    save_path = saver.save(sess, save_model_path)"
   ]
  },
  {
   "cell_type": "markdown",
   "metadata": {},
   "source": [
    "# Checkpoint\n",
    "The model has been saved to disk.\n",
    "## Test Model\n",
    "Test your model against the test dataset.  This will be your final accuracy. You should have an accuracy greater than 50%. If you don't, keep tweaking the model architecture and parameters."
   ]
  },
  {
   "cell_type": "code",
   "execution_count": 302,
   "metadata": {},
   "outputs": [
    {
     "name": "stdout",
     "output_type": "stream",
     "text": [
      "INFO:tensorflow:Restoring parameters from ./image_classification\n",
      "Testing Accuracy: 0.6505141913890838\n",
      "\n"
     ]
    },
    {
     "data": {
      "image/png": "[encoded data removed]",
      "text/plain": [
       "<matplotlib.figure.Figure at 0x7fc97973cb00>"
      ]
     },
     "metadata": {
      "image/png": {
       "height": 319,
       "width": 355
      }
     },
     "output_type": "display_data"
    }
   ],
   "source": [
    "\"\"\"\n",
    "DON'T MODIFY ANYTHING IN THIS CELL\n",
    "\"\"\"\n",
    "%matplotlib inline\n",
    "%config InlineBackend.figure_format = 'retina'\n",
    "\n",
    "import tensorflow as tf\n",
    "import pickle\n",
    "import helper\n",
    "import random\n",
    "\n",
    "# Set batch size if not already set\n",
    "try:\n",
    "    if batch_size:\n",
    "        pass\n",
    "except NameError:\n",
    "    batch_size = 64\n",
    "\n",
    "save_model_path = './image_classification'\n",
    "n_samples = 4\n",
    "top_n_predictions = 3\n",
    "\n",
    "def test_model():\n",
    "    \"\"\"\n",
    "    Test the saved model against the test dataset\n",
    "    \"\"\"\n",
    "\n",
    "    test_features, test_labels = pickle.load(open('preprocess_test.p', mode='rb'))\n",
    "    loaded_graph = tf.Graph()\n",
    "\n",
    "    with tf.Session(graph=loaded_graph) as sess:\n",
    "        # Load model\n",
    "        loader = tf.train.import_meta_graph(save_model_path + '.meta')\n",
    "        loader.restore(sess, save_model_path)\n",
    "\n",
    "        # Get Tensors from loaded model\n",
    "        loaded_x = loaded_graph.get_tensor_by_name('x:0')\n",
    "        loaded_y = loaded_graph.get_tensor_by_name('y:0')\n",
    "        loaded_keep_prob = loaded_graph.get_tensor_by_name('keep_prob:0')\n",
    "        loaded_logits = loaded_graph.get_tensor_by_name('logits:0')\n",
    "        loaded_acc = loaded_graph.get_tensor_by_name('accuracy:0')\n",
    "        \n",
    "        # Get accuracy in batches for memory limitations\n",
    "        test_batch_acc_total = 0\n",
    "        test_batch_count = 0\n",
    "        \n",
    "        for test_feature_batch, test_label_batch in helper.batch_features_labels(test_features, test_labels, batch_size):\n",
    "            test_batch_acc_total += sess.run(\n",
    "                loaded_acc,\n",
    "                feed_dict={loaded_x: test_feature_batch, loaded_y: test_label_batch, loaded_keep_prob: 1.0})\n",
    "            test_batch_count += 1\n",
    "\n",
    "        print('Testing Accuracy: {}\\n'.format(test_batch_acc_total/test_batch_count))\n",
    "\n",
    "        # Print Random Samples\n",
    "        random_test_features, random_test_labels = tuple(zip(*random.sample(list(zip(test_features, test_labels)), n_samples)))\n",
    "        random_test_predictions = sess.run(\n",
    "            tf.nn.top_k(tf.nn.softmax(loaded_logits), top_n_predictions),\n",
    "            feed_dict={loaded_x: random_test_features, loaded_y: random_test_labels, loaded_keep_prob: 1.0})\n",
    "        helper.display_image_predictions(random_test_features, random_test_labels, random_test_predictions)\n",
    "\n",
    "\n",
    "test_model()"
   ]
  },
  {
   "cell_type": "markdown",
   "metadata": {},
   "source": [
    "## Why 50-80% Accuracy?\n",
    "You might be wondering why you can't get an accuracy any higher. First things first, 50% isn't bad for a simple CNN.  Pure guessing would get you 10% accuracy. However, you might notice people are getting scores [well above 80%](http://rodrigob.github.io/are_we_there_yet/build/classification_datasets_results.html#43494641522d3130).  That's because we haven't taught you all there is to know about neural networks. We still need to cover a few more techniques.\n",
    "## Submitting This Project\n",
    "When submitting this project, make sure to run all the cells before saving the notebook.  Save the notebook file as \"dlnd_image_classification.ipynb\" and save it as a HTML file under \"File\" -> \"Download as\".  Include the \"helper.py\" and \"problem_unittests.py\" files in your submission."
   ]
  },
  {
   "cell_type": "code",
   "execution_count": null,
   "metadata": {
    "collapsed": true
   },
   "outputs": [],
   "source": []
  }
 ],
 "metadata": {
  "kernelspec": {
   "display_name": "Python 3",
   "language": "python",
   "name": "python3"
  },
  "language_info": {
   "codemirror_mode": {
    "name": "ipython",
    "version": 3
   },
   "file_extension": ".py",
   "mimetype": "text/x-python",
   "name": "python",
   "nbconvert_exporter": "python",
   "pygments_lexer": "ipython3",
   "version": "3.5.3"
  }
 },
 "nbformat": 4,
 "nbformat_minor": 1
}
